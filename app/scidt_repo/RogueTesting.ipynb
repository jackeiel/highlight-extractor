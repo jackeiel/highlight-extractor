{
 "cells": [
  {
   "cell_type": "code",
   "execution_count": 1,
   "id": "communist-projector",
   "metadata": {},
   "outputs": [],
   "source": [
    "from rouge_score import rouge_scorer\n",
    "\n"
   ]
  },
  {
   "cell_type": "code",
   "execution_count": 2,
   "id": "distributed-strengthening",
   "metadata": {},
   "outputs": [],
   "source": [
    "scorer = rouge_scorer.RougeScorer(['rouge1', 'rougeL'], use_stemmer=True)\n",
    "scores = scorer.score('The quick brown fox jumps over the lazy dog',\n",
    "                      'The quick brown dog jumps on the log.')"
   ]
  },
  {
   "cell_type": "code",
   "execution_count": 3,
   "id": "incorrect-ottawa",
   "metadata": {},
   "outputs": [
    {
     "data": {
      "text/plain": [
       "{'rouge1': Score(precision=0.75, recall=0.6666666666666666, fmeasure=0.7058823529411765),\n",
       " 'rougeL': Score(precision=0.625, recall=0.5555555555555556, fmeasure=0.5882352941176471)}"
      ]
     },
     "execution_count": 3,
     "metadata": {},
     "output_type": "execute_result"
    }
   ],
   "source": [
    "scores"
   ]
  },
  {
   "cell_type": "code",
   "execution_count": 4,
   "id": "charming-russell",
   "metadata": {},
   "outputs": [],
   "source": [
    "highlight1 = 'We investigate the pro-apoptotic effects of PETIC in human brain GBM 8401 cells.'\n",
    "highlight2 = 'PEITC decreases the cell viability of GBM 8401 cells.' \n",
    "highlight3 = 'PEITC induces significantly sub-G1 phase in GBM 8401 cells.'\n",
    "highlight4 = 'PEITC induces apoptosis through multiple pathways in GBM 8401 cells.'\n",
    "highlight5 = 'We postulate the signaling pathways of PEITC for human brain glioblastoma cells.'\n",
    "\n",
    "#Abstract Below\n",
    "\n",
    "actual1 = 'We investigate the pro-apoptotic effects of PETIC in human brain GBM 8401 cells.'\n",
    "actual2 = 'Participants’ fitness was measured using the 6 min walking, the chair rise, and the handgrip strength test.'\n",
    "actual3 = 'Unexpectedly, in this group of institutionalized elderly, resistance training using elastic bands had no effect on chromosomal damage in buccal cells.'\n",
    "actual4 = 'Squared regressions revealed a significant increase in the MN frequency of buccal cells with age.'\n",
    "actual5 = 'Six minutes walking and chair rise performance improved significantly, however, no changes of the parameters of the BMcyt were detected.'"
   ]
  },
  {
   "cell_type": "code",
   "execution_count": 5,
   "id": "executed-intersection",
   "metadata": {},
   "outputs": [],
   "source": [
    "scores1 = scorer.score(highlight1, actual1)\n",
    "scores2 = scorer.score(highlight2, actual2)\n",
    "scores3 = scorer.score(highlight3, actual3)\n",
    "scores4 = scorer.score(highlight4, actual4)\n",
    "scores5 = scorer.score(highlight5, actual5)"
   ]
  },
  {
   "cell_type": "code",
   "execution_count": 6,
   "id": "occupied-bleeding",
   "metadata": {},
   "outputs": [],
   "source": [
    "discussion1 = 'Cytochrome c initiates a caspase cascade by advancing apoptosome formation to provide the expression of apoptotic protease-activating factor-1.'\n",
    "discussion2 = 'PEITC induced cytotoxic effects on GBM 8401 human glioblastoma multiforme cells in vitro: it changed the morphology and decreased the viability of GBM 8401 cells in a dose- and time-dependent manner.'\n",
    "discussion3 = 'The extrinsic death receptor signaling pathway involving the Fas and FasL activates FADD followed by activation of caspase-8, then either activates caspase-3 directly to cause apoptosis or results in Bad activation to affect pro-apoptotic or anti-apoptotic protein expression before leading to mitochondria-mediated pathway.'\n",
    "discussion4 = 'In our study, PEITC promoted FADD, Fas, Fas-L and TRAIL; PEITC did not significantly affect caspase-3 activity, but increased caspase-8 and -9 activities; PEITC enhanced the levels of caspase-3, -9, -8, -2, and -4.'\n",
    "discussion5 = 'Thus, TMZ has various effects on caspases or induces apoptosis through different pathways in different glioblastoma cell lines, and personalized treatments for glioblastoma are necessary.'\n"
   ]
  },
  {
   "cell_type": "code",
   "execution_count": 7,
   "id": "annual-highway",
   "metadata": {},
   "outputs": [],
   "source": [
    "scores6 = scorer.score(discussion1, actual1)\n",
    "scores7 = scorer.score(discussion2, actual2)\n",
    "scores8 = scorer.score(discussion3, actual3)\n",
    "scores9 = scorer.score(discussion4, actual4)\n",
    "scores10 = scorer.score(discussion5, actual5)"
   ]
  },
  {
   "cell_type": "code",
   "execution_count": 8,
   "id": "automated-pendant",
   "metadata": {},
   "outputs": [
    {
     "name": "stdout",
     "output_type": "stream",
     "text": [
      "1.0 0.0588 0.0952 0.1333 0.1\n"
     ]
    }
   ],
   "source": [
    "print(round(scores1['rougeL'][0],4), round(scores2['rougeL'][0],4), round(scores3['rougeL'][0],4), \n",
    "      round(scores4['rougeL'][0],4), round(scores5['rougeL'][0],4))"
   ]
  },
  {
   "cell_type": "code",
   "execution_count": 9,
   "id": "rural-temperature",
   "metadata": {},
   "outputs": [
    {
     "name": "stdout",
     "output_type": "stream",
     "text": [
      "0.1429 0.1765 0.0952 0.2 0.05\n"
     ]
    }
   ],
   "source": [
    "print(round(scores6['rougeL'][0],4), round(scores7['rougeL'][0],4), round(scores8['rougeL'][0],4), \n",
    "      round(scores9['rougeL'][0],4), round(scores10['rougeL'][0],4))"
   ]
  },
  {
   "cell_type": "code",
   "execution_count": 10,
   "id": "removable-public",
   "metadata": {},
   "outputs": [],
   "source": [
    "paper4Actual1 = 'Mutation in buccal cells increased until very old age – a new aging biomarker?'\n",
    "paper4Actual2 = 'Chromosomal damage in buccal cells was age-dependent and equal for women and men.'\n",
    "paper4Actual3 = 'Strength training improved fitness but not mutagenicity in buccal cells of elderly.'\n",
    "\n",
    "\n",
    "\n",
    "paper4Generated1 = 'Genotoxicity and cytotoxicity parameters were investigated with the Buccal Micronucleus Cytome (BMcyt) assay.'\n",
    "paper4Generated2 = 'Participants’ fitness was measured using the 6 min walking, the chair rise, and the handgrip strength test.'\n",
    "paper4Generated3 = 'Unexpectedly, in this group of institutionalized elderly, resistance training using elastic bands had no effect on chromosomal damage in buccal cells.'\n",
    "paper4Generated4 = 'Squared regressions revealed a significant increase in the MN frequency of buccal cells with age.'\n",
    "paper4Generated5 = 'Six minutes walking and chair rise performance improved significantly, however, no changes of the parameters of the BMcyt were detected.'"
   ]
  },
  {
   "cell_type": "code",
   "execution_count": 11,
   "id": "arctic-values",
   "metadata": {},
   "outputs": [],
   "source": [
    "paper4ActualHighlights = paper4Actual1+' '+paper4Actual2 + ' '+ paper4Actual3\n",
    "paper4GeneratedHighlights = paper4Generated1+' '+paper4Generated2+' '+paper4Generated3+' '+paper4Generated4+' '+ paper4Generated5"
   ]
  },
  {
   "cell_type": "code",
   "execution_count": 12,
   "id": "fiscal-questionnaire",
   "metadata": {},
   "outputs": [],
   "source": [
    "scores11 = scorer.score(paper4Generated1, paper4Actual1)\n",
    "scores12 = scorer.score(paper4Generated2, paper4Actual2)\n",
    "scores13 = scorer.score(paper4Generated3, paper4Actual3)\n",
    "\n",
    "scoresPaper4 = scorer.score(paper4GeneratedHighlights, paper4ActualHighlights)\n"
   ]
  },
  {
   "cell_type": "code",
   "execution_count": 13,
   "id": "permanent-korean",
   "metadata": {},
   "outputs": [
    {
     "data": {
      "text/plain": [
       "'Mutation in buccal cells increased until very old age – a new aging biomarker? Chromosomal damage in buccal cells was age-dependent and equal for women and men. Strength training improved fitness but not mutagenicity in buccal cells of elderly.'"
      ]
     },
     "execution_count": 13,
     "metadata": {},
     "output_type": "execute_result"
    }
   ],
   "source": [
    "paper4ActualHighlights"
   ]
  },
  {
   "cell_type": "code",
   "execution_count": 14,
   "id": "blond-hawaiian",
   "metadata": {},
   "outputs": [
    {
     "data": {
      "text/plain": [
       "'Genotoxicity and cytotoxicity parameters were investigated with the Buccal Micronucleus Cytome (BMcyt) assay. Participants’ fitness was measured using the 6 min walking, the chair rise, and the handgrip strength test. Unexpectedly, in this group of institutionalized elderly, resistance training using elastic bands had no effect on chromosomal damage in buccal cells. Squared regressions revealed a significant increase in the MN frequency of buccal cells with age. Six minutes walking and chair rise performance improved significantly, however, no changes of the parameters of the BMcyt were detected.'"
      ]
     },
     "execution_count": 14,
     "metadata": {},
     "output_type": "execute_result"
    }
   ],
   "source": [
    "paper4GeneratedHighlights"
   ]
  },
  {
   "cell_type": "code",
   "execution_count": 15,
   "id": "special-insertion",
   "metadata": {
    "scrolled": true
   },
   "outputs": [
    {
     "name": "stdout",
     "output_type": "stream",
     "text": [
      "0.0769 0.1429 0.3333\n"
     ]
    }
   ],
   "source": [
    "print(round(scores11['rougeL'][0],4), round(scores12['rougeL'][0],4), round(scores13['rougeL'][0],4))"
   ]
  },
  {
   "cell_type": "code",
   "execution_count": 16,
   "id": "interested-electricity",
   "metadata": {},
   "outputs": [
    {
     "name": "stdout",
     "output_type": "stream",
     "text": [
      "paper4TotalScore:  0.2821\n"
     ]
    }
   ],
   "source": [
    "print('paper4TotalScore: ',round(scoresPaper4['rougeL'][0],4))"
   ]
  },
  {
   "cell_type": "code",
   "execution_count": 17,
   "id": "overall-discrimination",
   "metadata": {},
   "outputs": [],
   "source": [
    "paper4BestFit1 = 'Interestingly and contrary to what was shown in blood lymphocytes, chromosomal damage in buccal cells increases until very old age, which might qualify them as a valid biomarker for aging.'\n",
    "paper4BestFit2 = 'This steady increase in the MN frequency until old age was equally strong for women and men and could, after further research, qualify this marker as a valid biomarker for aging [45].'\n"
   ]
  },
  {
   "cell_type": "code",
   "execution_count": 18,
   "id": "brutal-money",
   "metadata": {},
   "outputs": [
    {
     "name": "stdout",
     "output_type": "stream",
     "text": [
      "0.7692\n"
     ]
    }
   ],
   "source": [
    "possibleScore1 = scorer.score(paper4BestFit1, paper4Actual1)\n",
    "print(round(possibleScore1['rougeL'][0],4))"
   ]
  },
  {
   "cell_type": "code",
   "execution_count": 19,
   "id": "analyzed-calgary",
   "metadata": {},
   "outputs": [
    {
     "name": "stdout",
     "output_type": "stream",
     "text": [
      "0.5\n"
     ]
    }
   ],
   "source": [
    "possibleScore2 = scorer.score(paper4BestFit2, paper4Actual2)\n",
    "print(round(possibleScore2['rougeL'][0],4))"
   ]
  }
 ],
 "metadata": {
  "kernelspec": {
   "display_name": "Python 3",
   "language": "python",
   "name": "python3"
  },
  "language_info": {
   "codemirror_mode": {
    "name": "ipython",
    "version": 3
   },
   "file_extension": ".py",
   "mimetype": "text/x-python",
   "name": "python",
   "nbconvert_exporter": "python",
   "pygments_lexer": "ipython3",
   "version": "3.8.5"
  }
 },
 "nbformat": 4,
 "nbformat_minor": 5
}
