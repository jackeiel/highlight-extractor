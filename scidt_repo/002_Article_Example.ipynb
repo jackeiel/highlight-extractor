{
 "cells": [
  {
   "cell_type": "markdown",
   "metadata": {},
   "source": [
    "## Step 1: Dependencies\n",
    "\n",
    "Check that all necessary libraries are added to your local environment:"
   ]
  },
  {
   "cell_type": "code",
   "execution_count": 1,
   "metadata": {},
   "outputs": [
    {
     "data": {
      "text/plain": [
       "'2.3.0'"
      ]
     },
     "execution_count": 1,
     "metadata": {},
     "output_type": "execute_result"
    }
   ],
   "source": [
    "import warnings\n",
    "warnings.filterwarnings('ignore')\n",
    "\n",
    "import tensorflow as tf\n",
    "#pip install keras-bert\n",
    "\n",
    "import os\n",
    "import warnings\n",
    "import sys\n",
    "import codecs\n",
    "import numpy as np\n",
    "import argparse\n",
    "import json\n",
    "import pickle\n",
    "import pandas as pd\n",
    "\n",
    "from util import read_passages, evaluate, make_folds, clean_words, test_f1, to_BIO, from_BIO, from_BIO_ind, arg2param\n",
    "\n",
    "import tensorflow as tf\n",
    "#config = tf.ConfigProto()\n",
    "config = tf.compat.v1.ConfigProto()\n",
    "config.gpu_options.per_process_gpu_memory_fraction = 1.0\n",
    "config.gpu_options.allow_growth = True  # dynamically grow the memory used on the GPU\n",
    "#sess = tf.Session(config=config)\n",
    "sess = tf.compat.v1.Session()\n",
    "#import keras.backend as K\n",
    "from tensorflow.compat.v1.keras import backend as K\n",
    "K.set_session(sess)\n",
    "from keras.activations import softmax\n",
    "from keras.regularizers import l2\n",
    "from keras.models import Model, model_from_json\n",
    "from keras.layers import Input, LSTM, Dense, Dropout, TimeDistributed, Bidirectional\n",
    "from keras.callbacks import EarlyStopping,LearningRateScheduler, ModelCheckpoint\n",
    "from keras.optimizers import Adam, RMSprop, SGD\n",
    "\n",
    "from crf import CRF\n",
    "from attention import TensorAttention\n",
    "from custom_layers import HigherOrderTimeDistributedDense\n",
    "from generator import BertDiscourseGenerator\n",
    "\n",
    "from keras_bert import load_trained_model_from_checkpoint, Tokenizer\n",
    "\n",
    "import discourse_tagger_generator_bert\n",
    "# import bert\n",
    "# from transformers import AutoTokenizer, AutoModel \n",
    "#!pip install transformers\n",
    "# from transformers import pipeline\n",
    "\n",
    "#!pip install --upgrade tensorflow\n",
    "#CHECK TENSORFLOW VERSION - Should be 2.3.0\n",
    "tf.version.VERSION"
   ]
  },
  {
   "cell_type": "code",
   "execution_count": 2,
   "metadata": {},
   "outputs": [],
   "source": [
    "articles = os.listdir('../data/testfiles/sampleArticles')\n",
    "\n",
    "areas = ['BIOC']\n",
    "\n",
    "for article in articles:\n",
    "    i = 0\n",
    "#     path = ['data', 'open_cc', 'json', article]\n",
    "    with open(os.path.join('../data', 'testfiles', 'sampleArticles', article)) as file:        \n",
    "        full_text = json.load(file)\n",
    "        try:\n",
    "            highlights = full_text['author_highlights']\n",
    "            author_highlights = []\n",
    "            for item in highlights:\n",
    "                item = item['sentence'].strip()\n",
    "                if not item.endswith('.'):\n",
    "                    item += '.'  # ensures each is a \"sentence\"\n",
    "                author_highlights.append(item)\n",
    "            \n",
    "\n",
    "            if 'BIOC' in full_text['metadata']['subjareas']:\n",
    "                abstract = full_text['abstract']\n",
    "                body_text = full_text['body_text']\n",
    "                text = [t['sentence'] for t in body_text if t['title'] == 'Discussion']\n",
    "\n",
    "        except KeyError:\n",
    "            pass\n",
    "    i += 1\n",
    "    if i > 0:\n",
    "        break"
   ]
  },
  {
   "cell_type": "code",
   "execution_count": 3,
   "metadata": {},
   "outputs": [
    {
     "data": {
      "text/plain": [
       "['We investigate the pro-apoptotic effects of PETIC in human brain GBM 8401 cells.',\n",
       " 'PEITC decreases the cell viability of GBM 8401 cells.',\n",
       " 'PEITC induces significantly sub-G1 phase in GBM 8401 cells.',\n",
       " 'PEITC induces apoptosis through multiple pathways in GBM 8401 cells.',\n",
       " 'We postulate the signaling pathways of PEITC for human brain glioblastoma cells.']"
      ]
     },
     "execution_count": 3,
     "metadata": {},
     "output_type": "execute_result"
    }
   ],
   "source": [
    "author_highlights"
   ]
  },
  {
   "cell_type": "code",
   "execution_count": 4,
   "metadata": {},
   "outputs": [
    {
     "data": {
      "text/plain": [
       "['On the contrary, TMZ did not increase ROS production, Ca2+ release, but is with involvement of mitochondria changes in GBM 8401 cells (Fig. 3).',\n",
       " 'The central effectors of apoptosis are caspases.',\n",
       " 'ER stress markers include GADD153, GRP 78, IRE-1α, XBP-1 (Gotoh et al., 2004; Kim et al., 2007; Lovat et al., 2003; Oyadomari et al., 2002; Tajiri et al., 2004).']"
      ]
     },
     "execution_count": 4,
     "metadata": {},
     "output_type": "execute_result"
    }
   ],
   "source": [
    "text[:3]"
   ]
  },
  {
   "cell_type": "code",
   "execution_count": 5,
   "metadata": {},
   "outputs": [],
   "source": [
    "with open('../data/testFiles/S0197018615000054.txt', 'w', encoding=\"utf-8\") as f:\n",
    "    for item in text:\n",
    "        f.write(\"%s\\n\" % item)"
   ]
  },
  {
   "cell_type": "markdown",
   "metadata": {},
   "source": [
    "# Tag Example File:\n",
    "\n",
    "Pass your test file in the command below with the same parameters as the trained model. "
   ]
  },
  {
   "cell_type": "code",
   "execution_count": 6,
   "metadata": {},
   "outputs": [
    {
     "name": "stdout",
     "output_type": "stream",
     "text": [
      "att=False_cont=LSTM_clause_lstm=False_bi=True_crf=False\n",
      "WARNING:tensorflow:AutoGraph could not transform <bound method PositionEmbedding.call of <keras_pos_embd.pos_embd.PositionEmbedding object at 0x00000212A737BBE0>> and will run it as-is.\n",
      "Please report this to the TensorFlow team. When filing the bug, set the verbosity to 10 (on Linux, `export AUTOGRAPH_VERBOSITY=10`) and attach the full output.\n",
      "Cause: module 'gast' has no attribute 'Index'\n",
      "To silence this warning, decorate the function with @tf.autograph.experimental.do_not_convert\n",
      "WARNING: AutoGraph could not transform <bound method PositionEmbedding.call of <keras_pos_embd.pos_embd.PositionEmbedding object at 0x00000212A737BBE0>> and will run it as-is.\n",
      "Please report this to the TensorFlow team. When filing the bug, set the verbosity to 10 (on Linux, `export AUTOGRAPH_VERBOSITY=10`) and attach the full output.\n",
      "Cause: module 'gast' has no attribute 'Index'\n",
      "To silence this warning, decorate the function with @tf.autograph.experimental.do_not_convert\n",
      "WARNING:tensorflow:AutoGraph could not transform <bound method MultiHeadAttention.call of <keras_multi_head.multi_head_attention.MultiHeadAttention object at 0x00000212A753DCD0>> and will run it as-is.\n",
      "Please report this to the TensorFlow team. When filing the bug, set the verbosity to 10 (on Linux, `export AUTOGRAPH_VERBOSITY=10`) and attach the full output.\n",
      "Cause: module 'gast' has no attribute 'Index'\n",
      "To silence this warning, decorate the function with @tf.autograph.experimental.do_not_convert\n",
      "WARNING: AutoGraph could not transform <bound method MultiHeadAttention.call of <keras_multi_head.multi_head_attention.MultiHeadAttention object at 0x00000212A753DCD0>> and will run it as-is.\n",
      "Please report this to the TensorFlow team. When filing the bug, set the verbosity to 10 (on Linux, `export AUTOGRAPH_VERBOSITY=10`) and attach the full output.\n",
      "Cause: module 'gast' has no attribute 'Index'\n",
      "To silence this warning, decorate the function with @tf.autograph.experimental.do_not_convert\n",
      "WARNING:tensorflow:AutoGraph could not transform <bound method ScaledDotProductAttention.call of <keras_self_attention.scaled_dot_attention.ScaledDotProductAttention object at 0x00000212A759CCD0>> and will run it as-is.\n",
      "Please report this to the TensorFlow team. When filing the bug, set the verbosity to 10 (on Linux, `export AUTOGRAPH_VERBOSITY=10`) and attach the full output.\n",
      "Cause: module 'gast' has no attribute 'Index'\n",
      "To silence this warning, decorate the function with @tf.autograph.experimental.do_not_convert\n",
      "WARNING: AutoGraph could not transform <bound method ScaledDotProductAttention.call of <keras_self_attention.scaled_dot_attention.ScaledDotProductAttention object at 0x00000212A759CCD0>> and will run it as-is.\n",
      "Please report this to the TensorFlow team. When filing the bug, set the verbosity to 10 (on Linux, `export AUTOGRAPH_VERBOSITY=10`) and attach the full output.\n",
      "Cause: module 'gast' has no attribute 'Index'\n",
      "To silence this warning, decorate the function with @tf.autograph.experimental.do_not_convert\n",
      "Loaded model:\n",
      "Model: \"functional_21\"\n",
      "_________________________________________________________________\n",
      "Layer (type)                 Output Shape              Param #   \n",
      "=================================================================\n",
      "input_4 (InputLayer)         [(None, 40, 768)]         0         \n",
      "_________________________________________________________________\n",
      "dropout_6 (Dropout)          (None, 40, 768)           0         \n",
      "_________________________________________________________________\n",
      "dense_5 (Dense)              (None, 40, 300)           230700    \n",
      "_________________________________________________________________\n",
      "bidirectional_3 (Bidirection (None, 40, 700)           1822800   \n",
      "_________________________________________________________________\n",
      "dropout_7 (Dropout)          (None, 40, 700)           0         \n",
      "_________________________________________________________________\n",
      "discourse (TimeDistributed)  (None, 40, 15)            10515     \n",
      "=================================================================\n",
      "Total params: 2,064,015\n",
      "Trainable params: 2,064,015\n",
      "Non-trainable params: 0\n",
      "_________________________________________________________________\n",
      "None\n",
      "Loaded weights\n",
      "Loaded label index: {'none': 0, 'B_fact': 1, 'B_method': 2, 'B_implication': 3, 'B_result': 4, 'I_result': 5, 'I_implication': 6, 'B_goal': 7, 'B_problem': 8, 'B_hypothesis': 9, 'I_fact': 10, 'I_method': 11, 'I_problem': 12, 'I_hypothesis': 13, 'I_goal': 14}\n",
      "Predicting on file ../data/testFiles/S0197018615000054.txt\n",
      "maxseqlen 40\n",
      "Filtering data\n",
      "WARNING:tensorflow:From C:\\Projects\\Sp21-Project1scratch\\scidt_repo\\discourse_tagger_generator_bert.py:113: Model.predict_generator (from tensorflow.python.keras.engine.training) is deprecated and will be removed in a future version.\n",
      "Instructions for updating:\n",
      "Please use Model.predict, which supports generators.\n"
     ]
    }
   ],
   "source": [
    "%run discourse_tagger_generator_bert.py --repfile ../models/scibert_scivocab_uncased --test_file ../data/testFiles/S0197018615000054.txt --att_context LSTM_clause --bidirectional --save --maxseqlen 40 --maxclauselen 60 --batch_size 20"
   ]
  },
  {
   "cell_type": "markdown",
   "metadata": {},
   "source": [
    "# Load Predictions & Article into Dataframes"
   ]
  },
  {
   "cell_type": "code",
   "execution_count": 7,
   "metadata": {},
   "outputs": [
    {
     "data": {
      "text/html": [
       "<div>\n",
       "<style scoped>\n",
       "    .dataframe tbody tr th:only-of-type {\n",
       "        vertical-align: middle;\n",
       "    }\n",
       "\n",
       "    .dataframe tbody tr th {\n",
       "        vertical-align: top;\n",
       "    }\n",
       "\n",
       "    .dataframe thead th {\n",
       "        text-align: right;\n",
       "    }\n",
       "</style>\n",
       "<table border=\"1\" class=\"dataframe\">\n",
       "  <thead>\n",
       "    <tr style=\"text-align: right;\">\n",
       "      <th></th>\n",
       "      <th>Sentence</th>\n",
       "      <th>DST</th>\n",
       "    </tr>\n",
       "  </thead>\n",
       "  <tbody>\n",
       "    <tr>\n",
       "      <th>0</th>\n",
       "      <td>On the contrary, TMZ did not increase ROS prod...</td>\n",
       "      <td>result</td>\n",
       "    </tr>\n",
       "    <tr>\n",
       "      <th>1</th>\n",
       "      <td>The central effectors of apoptosis are caspases.</td>\n",
       "      <td>result</td>\n",
       "    </tr>\n",
       "    <tr>\n",
       "      <th>2</th>\n",
       "      <td>ER stress markers include GADD153, GRP 78, IRE...</td>\n",
       "      <td>result</td>\n",
       "    </tr>\n",
       "    <tr>\n",
       "      <th>3</th>\n",
       "      <td>The effects of PEITC on human glioma cells hav...</td>\n",
       "      <td>result</td>\n",
       "    </tr>\n",
       "    <tr>\n",
       "      <th>4</th>\n",
       "      <td>In our study, PEITC promoted the protein expre...</td>\n",
       "      <td>result</td>\n",
       "    </tr>\n",
       "    <tr>\n",
       "      <th>5</th>\n",
       "      <td>PEITC induced cytotoxic effects on GBM 8401 hu...</td>\n",
       "      <td>result</td>\n",
       "    </tr>\n",
       "    <tr>\n",
       "      <th>6</th>\n",
       "      <td>The intrinsic (mitochondrial) pathways result ...</td>\n",
       "      <td>result</td>\n",
       "    </tr>\n",
       "    <tr>\n",
       "      <th>7</th>\n",
       "      <td>According to these observations above, we sugg...</td>\n",
       "      <td>implication</td>\n",
       "    </tr>\n",
       "  </tbody>\n",
       "</table>\n",
       "</div>"
      ],
      "text/plain": [
       "                                            Sentence          DST\n",
       "0  On the contrary, TMZ did not increase ROS prod...       result\n",
       "1   The central effectors of apoptosis are caspases.       result\n",
       "2  ER stress markers include GADD153, GRP 78, IRE...       result\n",
       "3  The effects of PEITC on human glioma cells hav...       result\n",
       "4  In our study, PEITC promoted the protein expre...       result\n",
       "5  PEITC induced cytotoxic effects on GBM 8401 hu...       result\n",
       "6  The intrinsic (mitochondrial) pathways result ...       result\n",
       "7  According to these observations above, we sugg...  implication"
      ]
     },
     "execution_count": 7,
     "metadata": {},
     "output_type": "execute_result"
    }
   ],
   "source": [
    "dfPredictions = pd.read_csv('predictions/S0197018615000054att=False_cont=LSTM_clause_lstm=False_bi=True_crf=False.out',names=['DST'])\n",
    "dfArticle = pd.DataFrame(text, columns=['Sentence'])\n",
    "dfFinal = pd.concat([dfArticle, dfPredictions], axis=1)\n",
    "dfFinal.head(8)\n",
    "\n",
    "# - To see non-truncated values, run: pd.set_option('display.max_colwidth', -1)"
   ]
  },
  {
   "cell_type": "markdown",
   "metadata": {},
   "source": [
    "# Filter Out Implication Clauses"
   ]
  },
  {
   "cell_type": "code",
   "execution_count": 8,
   "metadata": {},
   "outputs": [
    {
     "data": {
      "text/html": [
       "<div>\n",
       "<style scoped>\n",
       "    .dataframe tbody tr th:only-of-type {\n",
       "        vertical-align: middle;\n",
       "    }\n",
       "\n",
       "    .dataframe tbody tr th {\n",
       "        vertical-align: top;\n",
       "    }\n",
       "\n",
       "    .dataframe thead th {\n",
       "        text-align: right;\n",
       "    }\n",
       "</style>\n",
       "<table border=\"1\" class=\"dataframe\">\n",
       "  <thead>\n",
       "    <tr style=\"text-align: right;\">\n",
       "      <th></th>\n",
       "      <th>Sentence</th>\n",
       "      <th>DST</th>\n",
       "    </tr>\n",
       "  </thead>\n",
       "  <tbody>\n",
       "    <tr>\n",
       "      <th>7</th>\n",
       "      <td>According to these observations above, we sugg...</td>\n",
       "      <td>implication</td>\n",
       "    </tr>\n",
       "    <tr>\n",
       "      <th>14</th>\n",
       "      <td>Thus, TMZ has various effects on caspases or i...</td>\n",
       "      <td>implication</td>\n",
       "    </tr>\n",
       "  </tbody>\n",
       "</table>\n",
       "</div>"
      ],
      "text/plain": [
       "                                             Sentence          DST\n",
       "7   According to these observations above, we sugg...  implication\n",
       "14  Thus, TMZ has various effects on caspases or i...  implication"
      ]
     },
     "execution_count": 8,
     "metadata": {},
     "output_type": "execute_result"
    }
   ],
   "source": [
    "dfImplications = dfFinal[dfFinal['DST'] == 'implication']\n",
    "dfImplications"
   ]
  },
  {
   "cell_type": "markdown",
   "metadata": {},
   "source": [
    "# Compare to Research Highlights"
   ]
  },
  {
   "cell_type": "code",
   "execution_count": 9,
   "metadata": {},
   "outputs": [
    {
     "data": {
      "text/plain": [
       "['We investigate the pro-apoptotic effects of PETIC in human brain GBM 8401 cells.',\n",
       " 'PEITC decreases the cell viability of GBM 8401 cells.',\n",
       " 'PEITC induces significantly sub-G1 phase in GBM 8401 cells.',\n",
       " 'PEITC induces apoptosis through multiple pathways in GBM 8401 cells.',\n",
       " 'We postulate the signaling pathways of PEITC for human brain glioblastoma cells.']"
      ]
     },
     "execution_count": 9,
     "metadata": {},
     "output_type": "execute_result"
    }
   ],
   "source": [
    "author_highlights"
   ]
  },
  {
   "cell_type": "code",
   "execution_count": 10,
   "metadata": {},
   "outputs": [
    {
     "data": {
      "text/html": [
       "<div>\n",
       "<style scoped>\n",
       "    .dataframe tbody tr th:only-of-type {\n",
       "        vertical-align: middle;\n",
       "    }\n",
       "\n",
       "    .dataframe tbody tr th {\n",
       "        vertical-align: top;\n",
       "    }\n",
       "\n",
       "    .dataframe thead th {\n",
       "        text-align: right;\n",
       "    }\n",
       "</style>\n",
       "<table border=\"1\" class=\"dataframe\">\n",
       "  <thead>\n",
       "    <tr style=\"text-align: right;\">\n",
       "      <th></th>\n",
       "      <th>Sentence</th>\n",
       "      <th>DST</th>\n",
       "    </tr>\n",
       "  </thead>\n",
       "  <tbody>\n",
       "    <tr>\n",
       "      <th>7</th>\n",
       "      <td>According to these observations above, we sugg...</td>\n",
       "      <td>implication</td>\n",
       "    </tr>\n",
       "    <tr>\n",
       "      <th>14</th>\n",
       "      <td>Thus, TMZ has various effects on caspases or i...</td>\n",
       "      <td>implication</td>\n",
       "    </tr>\n",
       "  </tbody>\n",
       "</table>\n",
       "</div>"
      ],
      "text/plain": [
       "                                             Sentence          DST\n",
       "7   According to these observations above, we sugg...  implication\n",
       "14  Thus, TMZ has various effects on caspases or i...  implication"
      ]
     },
     "execution_count": 10,
     "metadata": {},
     "output_type": "execute_result"
    }
   ],
   "source": [
    "dfImplications"
   ]
  },
  {
   "cell_type": "markdown",
   "metadata": {},
   "source": [
    "## Author Highlights:\n",
    "\n",
    "* We investigate the pro-apoptotic effects of PETIC in human brain GBM 8401 cells.\n",
    "* PEITC decreases the cell viability of GBM 8401 cells.\n",
    "* PEITC induces significantly sub-G1 phase in GBM 8401 cells.\n",
    "* PEITC induces apoptosis through multiple pathways in GBM 8401 cells.\n",
    "* We postulate the signaling pathways of PEITC for human brain glioblastoma cells.\n",
    "\n",
    "\n",
    "## Implication Clause(s):\n",
    "* According to these observations above, we suggest that PEITC induces apoptosis also through intrinsic (mitochondrial) pathways as well as extrinsic (death receptor) ones.\n",
    "* Thus, TMZ has various effects on caspases or induces apoptosis through different pathways in different glioblastoma cell lines, and personalized treatments for glioblastoma are necessary."
   ]
  },
  {
   "cell_type": "code",
   "execution_count": 13,
   "metadata": {},
   "outputs": [],
   "source": [
    "# - Optional save file for further analysis / comparison to research highlights\n",
    "#dfFinal.to_csv(r'../../exampleArticle.csv', index = False)"
   ]
  }
 ],
 "metadata": {
  "kernelspec": {
   "display_name": "Python 3",
   "language": "python",
   "name": "python3"
  },
  "language_info": {
   "codemirror_mode": {
    "name": "ipython",
    "version": 3
   },
   "file_extension": ".py",
   "mimetype": "text/x-python",
   "name": "python",
   "nbconvert_exporter": "python",
   "pygments_lexer": "ipython3",
   "version": "3.8.5"
  }
 },
 "nbformat": 4,
 "nbformat_minor": 4
}
